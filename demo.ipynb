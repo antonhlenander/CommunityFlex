{
 "cells": [
  {
   "cell_type": "code",
   "execution_count": 1,
   "metadata": {},
   "outputs": [
    {
     "name": "stdout",
     "output_type": "stream",
     "text": [
      "Loading demand profiles...\n",
      "Demand profiles loaded!\n",
      "Loading production data...\n",
      "Production profiles loaded!\n",
      "Sum of H1 column: 8.149650000000001\n"
     ]
    },
    {
     "data": {
      "text/html": [
       "<div>\n",
       "<style scoped>\n",
       "    .dataframe tbody tr th:only-of-type {\n",
       "        vertical-align: middle;\n",
       "    }\n",
       "\n",
       "    .dataframe tbody tr th {\n",
       "        vertical-align: top;\n",
       "    }\n",
       "\n",
       "    .dataframe thead th {\n",
       "        text-align: right;\n",
       "    }\n",
       "</style>\n",
       "<table border=\"1\" class=\"dataframe\">\n",
       "  <thead>\n",
       "    <tr style=\"text-align: right;\">\n",
       "      <th>house_index</th>\n",
       "      <th>hour</th>\n",
       "      <th>H1</th>\n",
       "      <th>H2</th>\n",
       "      <th>H3</th>\n",
       "      <th>H4</th>\n",
       "      <th>H5</th>\n",
       "    </tr>\n",
       "  </thead>\n",
       "  <tbody>\n",
       "    <tr>\n",
       "      <th>0</th>\n",
       "      <td>0</td>\n",
       "      <td>0.282967</td>\n",
       "      <td>0.055000</td>\n",
       "      <td>0.132767</td>\n",
       "      <td>0.176767</td>\n",
       "      <td>0.0645</td>\n",
       "    </tr>\n",
       "    <tr>\n",
       "      <th>1</th>\n",
       "      <td>1</td>\n",
       "      <td>0.160367</td>\n",
       "      <td>0.125033</td>\n",
       "      <td>0.083267</td>\n",
       "      <td>0.159300</td>\n",
       "      <td>0.1312</td>\n",
       "    </tr>\n",
       "    <tr>\n",
       "      <th>2</th>\n",
       "      <td>2</td>\n",
       "      <td>0.123767</td>\n",
       "      <td>0.125033</td>\n",
       "      <td>0.108500</td>\n",
       "      <td>0.147333</td>\n",
       "      <td>0.1312</td>\n",
       "    </tr>\n",
       "    <tr>\n",
       "      <th>3</th>\n",
       "      <td>3</td>\n",
       "      <td>0.134450</td>\n",
       "      <td>0.125033</td>\n",
       "      <td>0.094000</td>\n",
       "      <td>0.097567</td>\n",
       "      <td>0.1312</td>\n",
       "    </tr>\n",
       "    <tr>\n",
       "      <th>4</th>\n",
       "      <td>4</td>\n",
       "      <td>0.114033</td>\n",
       "      <td>0.098217</td>\n",
       "      <td>0.134600</td>\n",
       "      <td>0.174600</td>\n",
       "      <td>0.0630</td>\n",
       "    </tr>\n",
       "  </tbody>\n",
       "</table>\n",
       "</div>"
      ],
      "text/plain": [
       "house_index  hour        H1        H2        H3        H4      H5\n",
       "0               0  0.282967  0.055000  0.132767  0.176767  0.0645\n",
       "1               1  0.160367  0.125033  0.083267  0.159300  0.1312\n",
       "2               2  0.123767  0.125033  0.108500  0.147333  0.1312\n",
       "3               3  0.134450  0.125033  0.094000  0.097567  0.1312\n",
       "4               4  0.114033  0.098217  0.134600  0.174600  0.0630"
      ]
     },
     "execution_count": 1,
     "metadata": {},
     "output_type": "execute_result"
    }
   ],
   "source": [
    "from datamanager import DataManager\n",
    "import matplotlib.pyplot as plt\n",
    "\n",
    "subfolder = 'data/'\n",
    "demand_path = f'{subfolder}demandprofiles.csv'\n",
    "prod_path = f'{subfolder}PV.csv'\n",
    "price_path = f'{subfolder}price_data.csv'\n",
    "dm = DataManager(demand_path, prod_path)\n",
    "\n",
    "df = dm.demand_df\n",
    "\n",
    "h1_sum = df['H5'].sum()\n",
    "print(f\"Sum of H1 column: {h1_sum}\")\n",
    "\n",
    "df.head()\n",
    "\n"
   ]
  }
 ],
 "metadata": {
  "kernelspec": {
   "display_name": "phantom",
   "language": "python",
   "name": "python3"
  },
  "language_info": {
   "codemirror_mode": {
    "name": "ipython",
    "version": 3
   },
   "file_extension": ".py",
   "mimetype": "text/x-python",
   "name": "python",
   "nbconvert_exporter": "python",
   "pygments_lexer": "ipython3",
   "version": "3.8.19"
  }
 },
 "nbformat": 4,
 "nbformat_minor": 2
}
