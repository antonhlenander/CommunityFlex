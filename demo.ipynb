{
 "cells": [
  {
   "cell_type": "code",
   "execution_count": 167,
   "metadata": {},
   "outputs": [
    {
     "name": "stdout",
     "output_type": "stream",
     "text": [
      "Loading demand profiles...\n",
      "Demand profiles loaded!\n",
      "Loading production data...\n",
      "Production profiles loaded!\n",
      "0.13650074855340982\n"
     ]
    }
   ],
   "source": [
    "from datamanager import DataManager\n",
    "import matplotlib.pyplot as plt\n",
    "\n",
    "subfolder = 'data/fullyearPV_singleDemand/'\n",
    "demand_path = f'{subfolder}demandprofiles.csv'\n",
    "prod_path = f'{subfolder}PV.csv'\n",
    "price_path = f'{subfolder}price_data.csv'\n",
    "dm = DataManager(demand_path, prod_path)\n",
    "\n",
    "agent_ids = [f'H{i+1}' for i in range(5)]\n",
    "\n",
    "#supply = {aid: dm.prod_df[aid] for aid in agent_ids}\n",
    "#supply = dm.prod_df['production']\n",
    "\n",
    "print(dm.get_agent_demand('H1',5))\n",
    "\n",
    "\n",
    "# plt.plot(demands['H1'], label='Demand')\n",
    "# plt.plot(dm.prod_df['production'], label='Supply')"
   ]
  },
  {
   "cell_type": "code",
   "execution_count": null,
   "metadata": {},
   "outputs": [],
   "source": []
  }
 ],
 "metadata": {
  "kernelspec": {
   "display_name": "phantom",
   "language": "python",
   "name": "python3"
  },
  "language_info": {
   "codemirror_mode": {
    "name": "ipython",
    "version": 3
   },
   "file_extension": ".py",
   "mimetype": "text/x-python",
   "name": "python",
   "nbconvert_exporter": "python",
   "pygments_lexer": "ipython3",
   "version": "3.8.19"
  }
 },
 "nbformat": 4,
 "nbformat_minor": 2
}
