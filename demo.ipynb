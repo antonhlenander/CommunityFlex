{
 "cells": [
  {
   "cell_type": "code",
   "execution_count": 8,
   "metadata": {},
   "outputs": [
    {
     "name": "stdout",
     "output_type": "stream",
     "text": [
      "[1.5625     1.30208333 1.04166667 0.78125    0.52083333 0.78125\n",
      " 1.04166667 1.30208333 1.5625     1.30208333 1.04166667 0.78125\n",
      " 0.52083333 0.78125    1.04166667 1.30208333 1.5625     1.30208333\n",
      " 1.04166667 0.78125    0.52083333 0.78125    1.04166667 1.30208333]\n"
     ]
    }
   ],
   "source": [
    "from agents import DSO\n",
    "from datamanager import DataManager\n",
    "import numpy as np\n",
    "import matplotlib.pyplot as plt\n",
    "\n",
    "residual_demand = 25\n",
    "daily_prices = [1, 2, 3, 4, 5, 4, 3, 2, 1, 2, 3, 4, 5, 4, 3, 2, 1, 2, 3, 4, 5, 4, 3, 2]\n",
    "var = 0.5\n",
    "\n",
    "\n",
    "\n",
    "def compute_capacity_limitation():\n",
    "    max_price = np.max(daily_prices)\n",
    "    min_price = np.min(daily_prices)\n",
    "    mid_price = (max_price + min_price)/2\n",
    "    avg_cap = residual_demand/24\n",
    "    #prices = np.array(daily_prices)\n",
    "    capacity_limitation = avg_cap - var * avg_cap * 2 * (daily_prices - mid_price) / (max_price - min_price)\n",
    "    return capacity_limitation\n",
    "\n",
    "cap = compute_capacity_limitation()\n",
    "print(cap)"
   ]
  }
 ],
 "metadata": {
  "kernelspec": {
   "display_name": "phantom",
   "language": "python",
   "name": "python3"
  },
  "language_info": {
   "codemirror_mode": {
    "name": "ipython",
    "version": 3
   },
   "file_extension": ".py",
   "mimetype": "text/x-python",
   "name": "python",
   "nbconvert_exporter": "python",
   "pygments_lexer": "ipython3",
   "version": "3.8.19"
  }
 },
 "nbformat": 4,
 "nbformat_minor": 2
}
