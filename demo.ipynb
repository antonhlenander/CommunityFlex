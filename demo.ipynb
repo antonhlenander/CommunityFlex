{
 "cells": [
  {
   "cell_type": "code",
   "execution_count": 18,
   "metadata": {},
   "outputs": [
    {
     "name": "stdout",
     "output_type": "stream",
     "text": [
      "Loading demand profiles...\n",
      "Demand profiles loaded!\n",
      "Loading production data...\n",
      "Production profiles loaded!\n",
      "Agent weekly demand:  11.794382202847565\n",
      "Agent weekly production:  6.042999999999999\n"
     ]
    }
   ],
   "source": [
    "from datamanager import DataManager\n",
    "import matplotlib.pyplot as plt\n",
    "\n",
    "subfolder = 'data/eval/'\n",
    "demand_path = f'{subfolder}demandprofiles.csv'\n",
    "prod_path = f'{subfolder}PV.csv'\n",
    "price_path = f'{subfolder}price_data.csv'\n",
    "dm = DataManager()\n",
    "\n",
    "\n",
    "demand = []\n",
    "production = []\n",
    "\n",
    "agent = 'H12'\n",
    "start = (168*18)+(24*4)\n",
    "end = (168*18)+(24*5)\n",
    "start = 24*182 -24\n",
    "end = 24*182\n",
    "\n",
    "for i in range(start, end):\n",
    "    p = dm.get_agent_production(agent, i)\n",
    "    production.append(p)\n",
    "    d = dm.get_agent_demand(agent, i%23)\n",
    "    demand.append(d)\n",
    "\n",
    "# var = dm.get_all_maxprod()\n",
    "# print(var)\n",
    "\n",
    "dm.demand_df.head()\n",
    "\n",
    "print('Agent weekly demand: ', sum(demand))\n",
    "print('Agent weekly production: ', sum(production))\n",
    "# print(production)\n",
    "\n",
    "# plt.plot(demand, label='Demand')\n",
    "# plt.plot(production, label='Supply')"
   ]
  },
  {
   "cell_type": "code",
   "execution_count": null,
   "metadata": {},
   "outputs": [],
   "source": []
  },
  {
   "cell_type": "code",
   "execution_count": null,
   "metadata": {},
   "outputs": [],
   "source": []
  }
 ],
 "metadata": {
  "kernelspec": {
   "display_name": "phantom",
   "language": "python",
   "name": "python3"
  },
  "language_info": {
   "codemirror_mode": {
    "name": "ipython",
    "version": 3
   },
   "file_extension": ".py",
   "mimetype": "text/x-python",
   "name": "python",
   "nbconvert_exporter": "python",
   "pygments_lexer": "ipython3",
   "version": "3.8.19"
  }
 },
 "nbformat": 4,
 "nbformat_minor": 2
}
