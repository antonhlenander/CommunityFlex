{
 "cells": [
  {
   "cell_type": "code",
   "execution_count": 3,
   "metadata": {},
   "outputs": [
    {
     "name": "stdout",
     "output_type": "stream",
     "text": [
      "Loading demand profiles...\n",
      "Demand profiles loaded!\n",
      "Loading production data...\n",
      "Production profiles loaded!\n",
      "8736\n"
     ]
    }
   ],
   "source": [
    "from datamanager import DataManager\n",
    "import matplotlib.pyplot as plt\n",
    "\n",
    "dm = DataManager()\n",
    "\n",
    "print(len(dm.get_price_array()))"
   ]
  }
 ],
 "metadata": {
  "kernelspec": {
   "display_name": "phantom",
   "language": "python",
   "name": "python3"
  },
  "language_info": {
   "codemirror_mode": {
    "name": "ipython",
    "version": 3
   },
   "file_extension": ".py",
   "mimetype": "text/x-python",
   "name": "python",
   "nbconvert_exporter": "python",
   "pygments_lexer": "ipython3",
   "version": "3.8.19"
  }
 },
 "nbformat": 4,
 "nbformat_minor": 2
}
