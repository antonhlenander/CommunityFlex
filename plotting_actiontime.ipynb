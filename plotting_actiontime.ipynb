{
 "cells": [
  {
   "cell_type": "code",
   "execution_count": 1,
   "metadata": {},
   "outputs": [
    {
     "name": "stderr",
     "output_type": "stream",
     "text": [
      "/Users/antonlenander/anaconda3/envs/phantom/lib/python3.8/site-packages/tqdm/auto.py:21: TqdmWarning: IProgress not found. Please update jupyter and ipywidgets. See https://ipywidgets.readthedocs.io/en/stable/user_install.html\n",
      "  from .autonotebook import tqdm as notebook_tqdm\n",
      "2024-12-08 13:09:02,657\tINFO util.py:159 -- Missing packages: ['ipywidgets']. Run `pip install -U ipywidgets`, then restart the notebook server for rich notebook output.\n",
      "2024-12-08 13:09:02,862\tINFO util.py:159 -- Missing packages: ['ipywidgets']. Run `pip install -U ipywidgets`, then restart the notebook server for rich notebook output.\n",
      "2024-12-08 13:09:03,300\tWARNING deprecation.py:50 -- DeprecationWarning: `DirectStepOptimizer` has been deprecated. This will raise an error in the future!\n"
     ]
    },
    {
     "name": "stdout",
     "output_type": "stream",
     "text": [
      "0    1.25372\n",
      "1    1.23378\n",
      "2    1.20766\n",
      "3    1.19457\n",
      "4    1.17574\n",
      "Name: SpotPriceDKK, dtype: float64\n"
     ]
    }
   ],
   "source": [
    "import matplotlib.pyplot as plt\n",
    "import cloudpickle\n",
    "import numpy as np\n",
    "\n",
    "path = \"output/flex/results.pkl\"\n",
    "\n",
    "with open(path, \"rb\") as file:\n",
    "    results = cloudpickle.load(file)\n",
    "\n",
    "results = list(results)\n",
    "for rollout in results:\n",
    "    for i in range(1,15):\n",
    "        aid = f\"H{i}\"\n",
    "        agent_actions = []\n",
    "        agent_demand = []\n",
    "        agent_charge = []\n",
    "        agent_supply = []\n",
    "        agent_prod = []\n",
    "        agent_actions += list(rollout.actions_for_agent(aid))\n",
    "        agent_demand += list(rollout.metrics[f\"{aid}/current_load\"])\n",
    "        agent_charge += list(rollout.metrics[f\"{aid}/current_charge\"])\n",
    "        agent_supply += list(rollout.metrics[f\"{aid}/current_supply\"])\n",
    "        agent_prod += list(rollout.metrics[f\"{aid}/current_prod\"])\n",
    "\n",
    "        for idx, action in enumerate(agent_actions):\n",
    "            if action is None:\n",
    "                agent_actions[idx] = agent_actions[idx + 1] if idx + 1 < len(agent_actions) else 6\n",
    "\n",
    "        start = 48*30*8 - 48*2\n",
    "        end = 48*30*8 - 48*1\n",
    "\n",
    "        agent_actions = agent_actions[start:end]\n",
    "        agent_demand = agent_demand[start:end]\n",
    "        agent_charge = agent_charge[start:end]\n",
    "        agent_supply = agent_supply[start:end]\n",
    "        agent_prod = agent_prod[start:end]\n",
    "\n",
    "\n",
    "        fig, ax1 = plt.subplots()\n",
    "\n",
    "        ax2 = ax1.twinx()\n",
    "        ax2.scatter(range(len(agent_actions)), agent_actions, label=\"Action\", color='tab:green', alpha=0.5)\n",
    "        ax2.set_ylabel('Action')\n",
    "        ax2.set_yticks([0, 1, 2, 3, 4, 5])\n",
    "        ax2.set_yticklabels(['buy', 'buycharge', 'sell', 'sellcharge', 'charge', 'noop'])\n",
    "        ax2.legend(loc='upper right')\n",
    "        \n",
    "        ax1.plot(agent_demand, label=\"Demand\", color='tab:blue')\n",
    "        ax1.plot(agent_charge, label=\"Charge\", color='tab:orange')\n",
    "        ax1.plot(agent_supply, label=\"Supply\", color='tab:red')\n",
    "        ax1.plot(agent_prod, label=\"Production\", color='tab:purple')\n",
    "        ax1.set_xlabel('Time step')\n",
    "        ax1.set_ylabel('Demand/Charge')\n",
    "        ax1.legend(loc='upper left')\n",
    "\n",
    "\n",
    "        fig.tight_layout()\n",
    "        plt.savefig(f\"demand_charge_action_{aid}.png\")\n",
    "        plt.close()\n",
    "\n",
    "\n",
    "\n",
    "\n",
    "        # Plot distribution of agent action per step for all rollouts\n",
    "        # plt.hist(agent_actions, bins=np.arange(-0.5, 6, 1), edgecolor='black')\n",
    "        # plt.xticks(np.arange(6))\n",
    "        # plt.title(\"Distribution of action values\")\n",
    "        # plt.xlabel(\"Agent action\")\n",
    "        # plt.ylabel(\"Frequency\")\n",
    "        # plt.savefig(f\"action_dist_{aid}.png\")\n",
    "        # plt.close()\n"
   ]
  }
 ],
 "metadata": {
  "kernelspec": {
   "display_name": "phantom",
   "language": "python",
   "name": "python3"
  },
  "language_info": {
   "codemirror_mode": {
    "name": "ipython",
    "version": 3
   },
   "file_extension": ".py",
   "mimetype": "text/x-python",
   "name": "python",
   "nbconvert_exporter": "python",
   "pygments_lexer": "ipython3",
   "version": "3.8.19"
  }
 },
 "nbformat": 4,
 "nbformat_minor": 2
}
